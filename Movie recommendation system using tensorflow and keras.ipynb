{
 "cells": [
  {
   "cell_type": "markdown",
   "id": "43f13303-c146-4939-b680-68dd5ce3e04c",
   "metadata": {},
   "source": [
    "Movie recommendation system \n",
    "using tensorflow and keras are widely used in field of deep learning and machine learning.why?\n",
    "1. ease of use and rapid development \n",
    "2. powerful and scable \n",
    "3. Extensive ecosystem and community support \n",
    "4. Integration with other technologies\n",
    "\n",
    "\n",
    "why is used tensorflow and keras for this movie recommendation system?\n",
    "As i mentioned above, clearly show case the role of tensorflow and keras in deep learning and machine learning. here are some summary of how tensorflow and keras helps in building a recommendation system. \n",
    "1. data handling and preprocessing\n",
    "   TensorFlow and Keras can easily integrate with data handling libraries like Pandas for preprocessing tasks. This includes encoding categorical variables (e.g., user IDs, movie IDs) and normalizing ratings.\n",
    "\n",
    "2. Model Building\n",
    "    Keras simplifies the creation of neural network models with its high-level API. You can define input layers, embedding layers for users and movies, and dense layers for processing the embeddings.\n",
    "\n",
    "3. Model Training\n",
    "   Keras makes it straightforward to compile and train models, providing built-in methods for specifying optimizers, loss functions, and metrics.\n",
    "\n",
    "4. evaluation and visualization\n",
    "   TensorFlow and Keras provide tools for evaluating model performance and visualizing training history, such as loss curves.\n"
   ]
  },
  {
   "cell_type": "code",
   "execution_count": 1,
   "id": "50e97c34-c4bb-4281-8ed2-5ada2cf92372",
   "metadata": {},
   "outputs": [],
   "source": [
    "import pandas as pd\n",
    "import numpy as np\n",
    "\n",
    "movie_ratings = pd.read_csv('ratings.csv')\n",
    "movies = pd.read_csv('movies.csv')"
   ]
  },
  {
   "cell_type": "code",
   "execution_count": 2,
   "id": "fe8c8ff1-4622-4a97-a756-e3ed6da0005d",
   "metadata": {},
   "outputs": [
    {
     "data": {
      "text/html": [
       "<div>\n",
       "<style scoped>\n",
       "    .dataframe tbody tr th:only-of-type {\n",
       "        vertical-align: middle;\n",
       "    }\n",
       "\n",
       "    .dataframe tbody tr th {\n",
       "        vertical-align: top;\n",
       "    }\n",
       "\n",
       "    .dataframe thead th {\n",
       "        text-align: right;\n",
       "    }\n",
       "</style>\n",
       "<table border=\"1\" class=\"dataframe\">\n",
       "  <thead>\n",
       "    <tr style=\"text-align: right;\">\n",
       "      <th></th>\n",
       "      <th>userId</th>\n",
       "      <th>movieId</th>\n",
       "      <th>rating</th>\n",
       "      <th>timestamp</th>\n",
       "    </tr>\n",
       "  </thead>\n",
       "  <tbody>\n",
       "    <tr>\n",
       "      <th>90697</th>\n",
       "      <td>590</td>\n",
       "      <td>1266</td>\n",
       "      <td>4.5</td>\n",
       "      <td>1258421353</td>\n",
       "    </tr>\n",
       "    <tr>\n",
       "      <th>13533</th>\n",
       "      <td>88</td>\n",
       "      <td>8677</td>\n",
       "      <td>0.5</td>\n",
       "      <td>1331421241</td>\n",
       "    </tr>\n",
       "    <tr>\n",
       "      <th>4611</th>\n",
       "      <td>28</td>\n",
       "      <td>40819</td>\n",
       "      <td>2.5</td>\n",
       "      <td>1236313271</td>\n",
       "    </tr>\n",
       "    <tr>\n",
       "      <th>33727</th>\n",
       "      <td>229</td>\n",
       "      <td>587</td>\n",
       "      <td>3.0</td>\n",
       "      <td>838144399</td>\n",
       "    </tr>\n",
       "  </tbody>\n",
       "</table>\n",
       "</div>"
      ],
      "text/plain": [
       "       userId  movieId  rating   timestamp\n",
       "90697     590     1266     4.5  1258421353\n",
       "13533      88     8677     0.5  1331421241\n",
       "4611       28    40819     2.5  1236313271\n",
       "33727     229      587     3.0   838144399"
      ]
     },
     "execution_count": 2,
     "metadata": {},
     "output_type": "execute_result"
    }
   ],
   "source": [
    "movie_ratings.sample(4)"
   ]
  },
  {
   "cell_type": "code",
   "execution_count": 3,
   "id": "abc4e673-5646-4d7c-ba93-8f8d5d4e5990",
   "metadata": {},
   "outputs": [
    {
     "data": {
      "text/html": [
       "<div>\n",
       "<style scoped>\n",
       "    .dataframe tbody tr th:only-of-type {\n",
       "        vertical-align: middle;\n",
       "    }\n",
       "\n",
       "    .dataframe tbody tr th {\n",
       "        vertical-align: top;\n",
       "    }\n",
       "\n",
       "    .dataframe thead th {\n",
       "        text-align: right;\n",
       "    }\n",
       "</style>\n",
       "<table border=\"1\" class=\"dataframe\">\n",
       "  <thead>\n",
       "    <tr style=\"text-align: right;\">\n",
       "      <th></th>\n",
       "      <th>movieId</th>\n",
       "      <th>title</th>\n",
       "      <th>genres</th>\n",
       "    </tr>\n",
       "  </thead>\n",
       "  <tbody>\n",
       "    <tr>\n",
       "      <th>7207</th>\n",
       "      <td>72737</td>\n",
       "      <td>Princess and the Frog, The (2009)</td>\n",
       "      <td>Animation|Children|Fantasy|Musical|Romance</td>\n",
       "    </tr>\n",
       "    <tr>\n",
       "      <th>1967</th>\n",
       "      <td>2612</td>\n",
       "      <td>Mildred Pierce (1945)</td>\n",
       "      <td>Drama|Film-Noir</td>\n",
       "    </tr>\n",
       "    <tr>\n",
       "      <th>3187</th>\n",
       "      <td>4296</td>\n",
       "      <td>Love Story (1970)</td>\n",
       "      <td>Drama|Romance</td>\n",
       "    </tr>\n",
       "    <tr>\n",
       "      <th>143</th>\n",
       "      <td>171</td>\n",
       "      <td>Jeffrey (1995)</td>\n",
       "      <td>Comedy|Drama</td>\n",
       "    </tr>\n",
       "  </tbody>\n",
       "</table>\n",
       "</div>"
      ],
      "text/plain": [
       "      movieId                              title  \\\n",
       "7207    72737  Princess and the Frog, The (2009)   \n",
       "1967     2612              Mildred Pierce (1945)   \n",
       "3187     4296                  Love Story (1970)   \n",
       "143       171                     Jeffrey (1995)   \n",
       "\n",
       "                                          genres  \n",
       "7207  Animation|Children|Fantasy|Musical|Romance  \n",
       "1967                             Drama|Film-Noir  \n",
       "3187                               Drama|Romance  \n",
       "143                                 Comedy|Drama  "
      ]
     },
     "execution_count": 3,
     "metadata": {},
     "output_type": "execute_result"
    }
   ],
   "source": [
    "movies.sample(4)"
   ]
  },
  {
   "cell_type": "code",
   "execution_count": 4,
   "id": "d2f158fc-2bc6-4aa0-8ef2-18044e62ae72",
   "metadata": {},
   "outputs": [
    {
     "data": {
      "text/html": [
       "<div>\n",
       "<style scoped>\n",
       "    .dataframe tbody tr th:only-of-type {\n",
       "        vertical-align: middle;\n",
       "    }\n",
       "\n",
       "    .dataframe tbody tr th {\n",
       "        vertical-align: top;\n",
       "    }\n",
       "\n",
       "    .dataframe thead th {\n",
       "        text-align: right;\n",
       "    }\n",
       "</style>\n",
       "<table border=\"1\" class=\"dataframe\">\n",
       "  <thead>\n",
       "    <tr style=\"text-align: right;\">\n",
       "      <th></th>\n",
       "      <th>movieId</th>\n",
       "    </tr>\n",
       "  </thead>\n",
       "  <tbody>\n",
       "    <tr>\n",
       "      <th>count</th>\n",
       "      <td>9742.000000</td>\n",
       "    </tr>\n",
       "    <tr>\n",
       "      <th>mean</th>\n",
       "      <td>42200.353623</td>\n",
       "    </tr>\n",
       "    <tr>\n",
       "      <th>std</th>\n",
       "      <td>52160.494854</td>\n",
       "    </tr>\n",
       "    <tr>\n",
       "      <th>min</th>\n",
       "      <td>1.000000</td>\n",
       "    </tr>\n",
       "    <tr>\n",
       "      <th>25%</th>\n",
       "      <td>3248.250000</td>\n",
       "    </tr>\n",
       "    <tr>\n",
       "      <th>50%</th>\n",
       "      <td>7300.000000</td>\n",
       "    </tr>\n",
       "    <tr>\n",
       "      <th>75%</th>\n",
       "      <td>76232.000000</td>\n",
       "    </tr>\n",
       "    <tr>\n",
       "      <th>max</th>\n",
       "      <td>193609.000000</td>\n",
       "    </tr>\n",
       "  </tbody>\n",
       "</table>\n",
       "</div>"
      ],
      "text/plain": [
       "             movieId\n",
       "count    9742.000000\n",
       "mean    42200.353623\n",
       "std     52160.494854\n",
       "min         1.000000\n",
       "25%      3248.250000\n",
       "50%      7300.000000\n",
       "75%     76232.000000\n",
       "max    193609.000000"
      ]
     },
     "execution_count": 4,
     "metadata": {},
     "output_type": "execute_result"
    }
   ],
   "source": [
    "movies.describe()"
   ]
  },
  {
   "cell_type": "code",
   "execution_count": 5,
   "id": "ab5afd8a-fd5e-46ab-9594-860ac5f1d35e",
   "metadata": {},
   "outputs": [
    {
     "data": {
      "text/plain": [
       "movieId    0\n",
       "title      0\n",
       "genres     0\n",
       "dtype: int64"
      ]
     },
     "execution_count": 5,
     "metadata": {},
     "output_type": "execute_result"
    }
   ],
   "source": [
    "movies.isnull().sum()"
   ]
  },
  {
   "cell_type": "code",
   "execution_count": 6,
   "id": "03f75a5e-ecc6-4953-b705-e46cfdf883f1",
   "metadata": {},
   "outputs": [
    {
     "data": {
      "text/plain": [
       "userId       0\n",
       "movieId      0\n",
       "rating       0\n",
       "timestamp    0\n",
       "dtype: int64"
      ]
     },
     "execution_count": 6,
     "metadata": {},
     "output_type": "execute_result"
    }
   ],
   "source": [
    "movie_ratings.isnull().sum()"
   ]
  },
  {
   "cell_type": "code",
   "execution_count": 7,
   "id": "f0bfa281-2995-44fe-b643-4e5242e936f1",
   "metadata": {},
   "outputs": [
    {
     "name": "stdout",
     "output_type": "stream",
     "text": [
      "<class 'pandas.core.frame.DataFrame'>\n",
      "RangeIndex: 100836 entries, 0 to 100835\n",
      "Data columns (total 4 columns):\n",
      " #   Column     Non-Null Count   Dtype  \n",
      "---  ------     --------------   -----  \n",
      " 0   userId     100836 non-null  int64  \n",
      " 1   movieId    100836 non-null  int64  \n",
      " 2   rating     100836 non-null  float64\n",
      " 3   timestamp  100836 non-null  int64  \n",
      "dtypes: float64(1), int64(3)\n",
      "memory usage: 3.1 MB\n"
     ]
    }
   ],
   "source": [
    "movie_ratings.info()"
   ]
  },
  {
   "cell_type": "code",
   "execution_count": 8,
   "id": "55810646-7bc7-41a5-bc5a-0a9090de6ac3",
   "metadata": {},
   "outputs": [
    {
     "data": {
      "text/html": [
       "<div>\n",
       "<style scoped>\n",
       "    .dataframe tbody tr th:only-of-type {\n",
       "        vertical-align: middle;\n",
       "    }\n",
       "\n",
       "    .dataframe tbody tr th {\n",
       "        vertical-align: top;\n",
       "    }\n",
       "\n",
       "    .dataframe thead th {\n",
       "        text-align: right;\n",
       "    }\n",
       "</style>\n",
       "<table border=\"1\" class=\"dataframe\">\n",
       "  <thead>\n",
       "    <tr style=\"text-align: right;\">\n",
       "      <th></th>\n",
       "      <th>userId</th>\n",
       "      <th>movieId</th>\n",
       "      <th>rating</th>\n",
       "      <th>timestamp</th>\n",
       "      <th>title</th>\n",
       "      <th>genres</th>\n",
       "    </tr>\n",
       "  </thead>\n",
       "  <tbody>\n",
       "    <tr>\n",
       "      <th>0</th>\n",
       "      <td>1</td>\n",
       "      <td>1</td>\n",
       "      <td>4.0</td>\n",
       "      <td>964982703</td>\n",
       "      <td>Toy Story (1995)</td>\n",
       "      <td>Adventure|Animation|Children|Comedy|Fantasy</td>\n",
       "    </tr>\n",
       "    <tr>\n",
       "      <th>1</th>\n",
       "      <td>5</td>\n",
       "      <td>1</td>\n",
       "      <td>4.0</td>\n",
       "      <td>847434962</td>\n",
       "      <td>Toy Story (1995)</td>\n",
       "      <td>Adventure|Animation|Children|Comedy|Fantasy</td>\n",
       "    </tr>\n",
       "    <tr>\n",
       "      <th>2</th>\n",
       "      <td>7</td>\n",
       "      <td>1</td>\n",
       "      <td>4.5</td>\n",
       "      <td>1106635946</td>\n",
       "      <td>Toy Story (1995)</td>\n",
       "      <td>Adventure|Animation|Children|Comedy|Fantasy</td>\n",
       "    </tr>\n",
       "    <tr>\n",
       "      <th>3</th>\n",
       "      <td>15</td>\n",
       "      <td>1</td>\n",
       "      <td>2.5</td>\n",
       "      <td>1510577970</td>\n",
       "      <td>Toy Story (1995)</td>\n",
       "      <td>Adventure|Animation|Children|Comedy|Fantasy</td>\n",
       "    </tr>\n",
       "    <tr>\n",
       "      <th>4</th>\n",
       "      <td>17</td>\n",
       "      <td>1</td>\n",
       "      <td>4.5</td>\n",
       "      <td>1305696483</td>\n",
       "      <td>Toy Story (1995)</td>\n",
       "      <td>Adventure|Animation|Children|Comedy|Fantasy</td>\n",
       "    </tr>\n",
       "  </tbody>\n",
       "</table>\n",
       "</div>"
      ],
      "text/plain": [
       "   userId  movieId  rating   timestamp             title  \\\n",
       "0       1        1     4.0   964982703  Toy Story (1995)   \n",
       "1       5        1     4.0   847434962  Toy Story (1995)   \n",
       "2       7        1     4.5  1106635946  Toy Story (1995)   \n",
       "3      15        1     2.5  1510577970  Toy Story (1995)   \n",
       "4      17        1     4.5  1305696483  Toy Story (1995)   \n",
       "\n",
       "                                        genres  \n",
       "0  Adventure|Animation|Children|Comedy|Fantasy  \n",
       "1  Adventure|Animation|Children|Comedy|Fantasy  \n",
       "2  Adventure|Animation|Children|Comedy|Fantasy  \n",
       "3  Adventure|Animation|Children|Comedy|Fantasy  \n",
       "4  Adventure|Animation|Children|Comedy|Fantasy  "
      ]
     },
     "execution_count": 8,
     "metadata": {},
     "output_type": "execute_result"
    }
   ],
   "source": [
    "df_data = pd.merge(movie_ratings, movies, on='movieId')\n",
    "df_data.head()"
   ]
  },
  {
   "cell_type": "code",
   "execution_count": 9,
   "id": "5cd083cb-fc67-44c4-925e-844886ce0b6d",
   "metadata": {},
   "outputs": [
    {
     "data": {
      "image/png": "[encoded data removed]",
      "text/plain": [
       "<Figure size 640x480 with 1 Axes>"
      ]
     },
     "metadata": {},
     "output_type": "display_data"
    }
   ],
   "source": [
    "import matplotlib.pyplot as plt\n",
    "import seaborn as sns\n",
    "\n",
    "sns.histplot(df_data['rating'],bins=10,kde=False)\n",
    "plt.xlabel('Ratings')\n",
    "plt.ylabel('count')\n",
    "plt.title('Distribution of movie ratings')\n",
    "plt.show()"
   ]
  },
  {
   "cell_type": "code",
   "execution_count": 10,
   "id": "5eb5df6c-495c-476e-b5e6-8011b64c50f8",
   "metadata": {},
   "outputs": [
    {
     "data": {
      "image/png": "[encoded data removed]",
      "text/plain": [
       "<Figure size 640x480 with 1 Axes>"
      ]
     },
     "metadata": {},
     "output_type": "display_data"
    }
   ],
   "source": [
    "# number of ratings per movie\n",
    "\n",
    "movie_ratings_count = df_data.groupby('title')['rating'].count().sort_values(ascending = False)\n",
    "movie_ratings_count.head(10).plot(kind  = 'barh')\n",
    "plt.xlabel('number of ratings')\n",
    "plt.title('top 10 most rated movies')\n",
    "plt.show()"
   ]
  },
  {
   "cell_type": "markdown",
   "id": "6906400a-358c-4b71-9c1d-1df7dd3ffa73",
   "metadata": {},
   "source": [
    "Encode the user IDs and movie IDs to ensure they are in suitable format for the model. \n",
    "explanation :\n",
    "label_encoder = converting categorical data into numerical data"
   ]
  },
  {
   "cell_type": "code",
   "execution_count": 11,
   "id": "76d09272-ac00-4f3e-93ee-012dd2bf8ce5",
   "metadata": {},
   "outputs": [],
   "source": [
    "import sklearn\n",
    "from sklearn.preprocessing import LabelEncoder"
   ]
  },
  {
   "cell_type": "code",
   "execution_count": 12,
   "id": "dbb67d0a-08e1-44b5-bc6f-f37a306c78a0",
   "metadata": {},
   "outputs": [],
   "source": [
    "user_IDs_enc = LabelEncoder()\n",
    "movie_ratings['user'] = user_IDs_enc.fit_transform(movie_ratings['userId'])\n",
    "\n",
    "movies_IDs_enc = LabelEncoder()\n",
    "movie_ratings['movie'] = user_IDs_enc.fit_transform(movie_ratings['movieId'])\n",
    "\n",
    "movie_ratings['rating'] = movie_ratings['rating'].values.astype('float32')\n",
    "\n",
    "n_users = movie_ratings['user'].nunique()\n",
    "n_movies = movie_ratings['movie'].nunique()"
   ]
  },
  {
   "cell_type": "code",
   "execution_count": 13,
   "id": "8fabe999-d722-4da0-ab53-e74bf1ae783f",
   "metadata": {},
   "outputs": [
    {
     "data": {
      "text/plain": [
       "610"
      ]
     },
     "execution_count": 13,
     "metadata": {},
     "output_type": "execute_result"
    }
   ],
   "source": [
    "n_users"
   ]
  },
  {
   "cell_type": "code",
   "execution_count": 14,
   "id": "db64dd87-9296-4d8f-8c91-1d2383c76692",
   "metadata": {},
   "outputs": [
    {
     "data": {
      "text/plain": [
       "9724"
      ]
     },
     "execution_count": 14,
     "metadata": {},
     "output_type": "execute_result"
    }
   ],
   "source": [
    "n_movies"
   ]
  },
  {
   "cell_type": "code",
   "execution_count": 15,
   "id": "4be84ac6-d5ae-46ea-820d-c6d3bf5332df",
   "metadata": {},
   "outputs": [
    {
     "data": {
      "image/png": "[encoded data removed]",
      "text/plain": [
       "<Figure size 1000x600 with 1 Axes>"
      ]
     },
     "metadata": {},
     "output_type": "display_data"
    }
   ],
   "source": [
    "plt.figure(figsize=(10, 6))\n",
    "plt.hist(movie_ratings['rating'], bins=np.arange(0.5, 5.5, 0.5), edgecolor='blue')\n",
    "plt.title('Distribution of Movie Ratings')\n",
    "plt.xlabel('Rating')\n",
    "plt.ylabel('Frequency')\n",
    "plt.xticks(np.arange(0.5, 5.5, 0.5))\n",
    "plt.grid(axis='y', linestyle='--', alpha=0.7)\n",
    "plt.show()"
   ]
  },
  {
   "cell_type": "markdown",
   "id": "74f03f66-8cc2-4737-9d5d-7e355fb44de2",
   "metadata": {},
   "source": [
    "The histogram shows the frequency of each rating, providing insights into\n",
    "how ratings are spread across the dataset."
   ]
  },
  {
   "cell_type": "markdown",
   "id": "e329a519-6458-4e2b-bb72-7ac2e8d0d74e",
   "metadata": {},
   "source": [
    "building a model using tensorflow and keras"
   ]
  },
  {
   "cell_type": "code",
   "execution_count": 16,
   "id": "5de2f286-8941-44b9-a2a0-3ef859f0d922",
   "metadata": {},
   "outputs": [],
   "source": [
    "import tensorflow as tf\n",
    "from tensorflow.keras.layers import Input, Embedding, Flatten, Dense,Concatenate,Dropout\n",
    "from tensorflow.keras.models import Model\n",
    "\n",
    "movie_user_input = Input(shape=(1,), name = 'movie_user_input')\n",
    "movie_input = Input(shape = (1,), name = 'movie_input')\n",
    "\n",
    "movie_user_embedding = Embedding(input_dim =n_users,output_dim = 50,name = 'movie_user_embedding' )(movie_user_input)\n",
    "movie_embedding = Embedding(input_dim =n_movies,output_dim = 50,name = 'movie_embedding' )(movie_input)\n",
    "\n",
    "movie_user_flatten = Flatten()(movie_user_embedding)\n",
    "movie_flatten = Flatten()(movie_embedding)\n",
    "\n",
    "concatenated = Concatenate()([movie_user_flatten,movie_flatten])\n",
    "\n",
    "dense_1 = Dense(128, activation='relu')(concatenated)\n",
    "dropout_1 = Dropout(0.5)(dense_1)\n",
    "dense_2 = Dense(64, activation='relu')(dropout_1)\n",
    "dropout_2 = Dropout(0.5)(dense_2)\n",
    "output = Dense(1)(dropout_2)\n",
    "\n",
    "model = Model([movie_user_input,movie_input],output)"
   ]
  },
  {
   "cell_type": "markdown",
   "id": "63b30767-aa16-4061-bae8-1bf41a6f467b",
   "metadata": {},
   "source": [
    "Input layers: user_input and movie_input are placeholders for user and movie IDs.\n",
    "Embedding layers: user_embedding and movie_embedding create dense vector representations (embeddings) for users and movies.\n",
    "Flatten layers: user_flatten and movie_flatten convert the 2D embeddings into 1D vectors.\n",
    "Concatenate layer: Combines the user and movie vectors into a single vector.\n",
    "Dense layers: dense_1 and dense_2 are fully connected layers that process the concatenated vector.\n",
    "Output layer: Produces a single value representing the predicted rating.\n",
    "Model compilation: Configures the model for training with the Adam optimizer and mean squared error loss."
   ]
  },
  {
   "cell_type": "code",
   "execution_count": 17,
   "id": "0617734c-a336-48d6-bf27-5defffe14b83",
   "metadata": {},
   "outputs": [
    {
     "data": {
      "text/html": [
       "<pre style=\"white-space:pre;overflow-x:auto;line-height:normal;font-family:Menlo,'DejaVu Sans Mono',consolas,'Courier New',monospace\"><span style=\"font-weight: bold\">Model: \"functional_1\"</span>\n",
       "</pre>\n"
      ],
      "text/plain": [
       "\u001b[1mModel: \"functional_1\"\u001b[0m\n"
      ]
     },
     "metadata": {},
     "output_type": "display_data"
    },
    {
     "data": {
      "text/html": [
       "<pre style=\"white-space:pre;overflow-x:auto;line-height:normal;font-family:Menlo,'DejaVu Sans Mono',consolas,'Courier New',monospace\">┏━━━━━━━━━━━━━━━━━┳━━━━━━━━━━━━━━┳━━━━━━━━━┳━━━━━━━━━━━━━━━┓\n",
       "┃<span style=\"font-weight: bold\"> Layer (type)    </span>┃<span style=\"font-weight: bold\"> Output Shape </span>┃<span style=\"font-weight: bold\"> Param # </span>┃<span style=\"font-weight: bold\"> Connected to  </span>┃\n",
       "┡━━━━━━━━━━━━━━━━━╇━━━━━━━━━━━━━━╇━━━━━━━━━╇━━━━━━━━━━━━━━━┩\n",
       "│ movie_user_inp… │ (<span style=\"color: #00d7ff; text-decoration-color: #00d7ff\">None</span>, <span style=\"color: #00af00; text-decoration-color: #00af00\">1</span>)    │       <span style=\"color: #00af00; text-decoration-color: #00af00\">0</span> │ -             │\n",
       "│ (<span style=\"color: #0087ff; text-decoration-color: #0087ff\">InputLayer</span>)    │              │         │               │\n",
       "├─────────────────┼──────────────┼─────────┼───────────────┤\n",
       "│ movie_input     │ (<span style=\"color: #00d7ff; text-decoration-color: #00d7ff\">None</span>, <span style=\"color: #00af00; text-decoration-color: #00af00\">1</span>)    │       <span style=\"color: #00af00; text-decoration-color: #00af00\">0</span> │ -             │\n",
       "│ (<span style=\"color: #0087ff; text-decoration-color: #0087ff\">InputLayer</span>)    │              │         │               │\n",
       "├─────────────────┼──────────────┼─────────┼───────────────┤\n",
       "│ movie_user_emb… │ (<span style=\"color: #00d7ff; text-decoration-color: #00d7ff\">None</span>, <span style=\"color: #00af00; text-decoration-color: #00af00\">1</span>,    │  <span style=\"color: #00af00; text-decoration-color: #00af00\">30,500</span> │ movie_user_i… │\n",
       "│ (<span style=\"color: #0087ff; text-decoration-color: #0087ff\">Embedding</span>)     │ <span style=\"color: #00af00; text-decoration-color: #00af00\">50</span>)          │         │               │\n",
       "├─────────────────┼──────────────┼─────────┼───────────────┤\n",
       "│ movie_embedding │ (<span style=\"color: #00d7ff; text-decoration-color: #00d7ff\">None</span>, <span style=\"color: #00af00; text-decoration-color: #00af00\">1</span>,    │ <span style=\"color: #00af00; text-decoration-color: #00af00\">486,200</span> │ movie_input[<span style=\"color: #00af00; text-decoration-color: #00af00\">…</span> │\n",
       "│ (<span style=\"color: #0087ff; text-decoration-color: #0087ff\">Embedding</span>)     │ <span style=\"color: #00af00; text-decoration-color: #00af00\">50</span>)          │         │               │\n",
       "├─────────────────┼──────────────┼─────────┼───────────────┤\n",
       "│ flatten         │ (<span style=\"color: #00d7ff; text-decoration-color: #00d7ff\">None</span>, <span style=\"color: #00af00; text-decoration-color: #00af00\">50</span>)   │       <span style=\"color: #00af00; text-decoration-color: #00af00\">0</span> │ movie_user_e… │\n",
       "│ (<span style=\"color: #0087ff; text-decoration-color: #0087ff\">Flatten</span>)       │              │         │               │\n",
       "├─────────────────┼──────────────┼─────────┼───────────────┤\n",
       "│ flatten_1       │ (<span style=\"color: #00d7ff; text-decoration-color: #00d7ff\">None</span>, <span style=\"color: #00af00; text-decoration-color: #00af00\">50</span>)   │       <span style=\"color: #00af00; text-decoration-color: #00af00\">0</span> │ movie_embedd… │\n",
       "│ (<span style=\"color: #0087ff; text-decoration-color: #0087ff\">Flatten</span>)       │              │         │               │\n",
       "├─────────────────┼──────────────┼─────────┼───────────────┤\n",
       "│ concatenate     │ (<span style=\"color: #00d7ff; text-decoration-color: #00d7ff\">None</span>, <span style=\"color: #00af00; text-decoration-color: #00af00\">100</span>)  │       <span style=\"color: #00af00; text-decoration-color: #00af00\">0</span> │ flatten[<span style=\"color: #00af00; text-decoration-color: #00af00\">0</span>][<span style=\"color: #00af00; text-decoration-color: #00af00\">0</span>… │\n",
       "│ (<span style=\"color: #0087ff; text-decoration-color: #0087ff\">Concatenate</span>)   │              │         │ flatten_1[<span style=\"color: #00af00; text-decoration-color: #00af00\">0</span>]… │\n",
       "├─────────────────┼──────────────┼─────────┼───────────────┤\n",
       "│ dense (<span style=\"color: #0087ff; text-decoration-color: #0087ff\">Dense</span>)   │ (<span style=\"color: #00d7ff; text-decoration-color: #00d7ff\">None</span>, <span style=\"color: #00af00; text-decoration-color: #00af00\">128</span>)  │  <span style=\"color: #00af00; text-decoration-color: #00af00\">12,928</span> │ concatenate[<span style=\"color: #00af00; text-decoration-color: #00af00\">…</span> │\n",
       "├─────────────────┼──────────────┼─────────┼───────────────┤\n",
       "│ dropout         │ (<span style=\"color: #00d7ff; text-decoration-color: #00d7ff\">None</span>, <span style=\"color: #00af00; text-decoration-color: #00af00\">128</span>)  │       <span style=\"color: #00af00; text-decoration-color: #00af00\">0</span> │ dense[<span style=\"color: #00af00; text-decoration-color: #00af00\">0</span>][<span style=\"color: #00af00; text-decoration-color: #00af00\">0</span>]   │\n",
       "│ (<span style=\"color: #0087ff; text-decoration-color: #0087ff\">Dropout</span>)       │              │         │               │\n",
       "├─────────────────┼──────────────┼─────────┼───────────────┤\n",
       "│ dense_1 (<span style=\"color: #0087ff; text-decoration-color: #0087ff\">Dense</span>) │ (<span style=\"color: #00d7ff; text-decoration-color: #00d7ff\">None</span>, <span style=\"color: #00af00; text-decoration-color: #00af00\">64</span>)   │   <span style=\"color: #00af00; text-decoration-color: #00af00\">8,256</span> │ dropout[<span style=\"color: #00af00; text-decoration-color: #00af00\">0</span>][<span style=\"color: #00af00; text-decoration-color: #00af00\">0</span>] │\n",
       "├─────────────────┼──────────────┼─────────┼───────────────┤\n",
       "│ dropout_1       │ (<span style=\"color: #00d7ff; text-decoration-color: #00d7ff\">None</span>, <span style=\"color: #00af00; text-decoration-color: #00af00\">64</span>)   │       <span style=\"color: #00af00; text-decoration-color: #00af00\">0</span> │ dense_1[<span style=\"color: #00af00; text-decoration-color: #00af00\">0</span>][<span style=\"color: #00af00; text-decoration-color: #00af00\">0</span>] │\n",
       "│ (<span style=\"color: #0087ff; text-decoration-color: #0087ff\">Dropout</span>)       │              │         │               │\n",
       "├─────────────────┼──────────────┼─────────┼───────────────┤\n",
       "│ dense_2 (<span style=\"color: #0087ff; text-decoration-color: #0087ff\">Dense</span>) │ (<span style=\"color: #00d7ff; text-decoration-color: #00d7ff\">None</span>, <span style=\"color: #00af00; text-decoration-color: #00af00\">1</span>)    │      <span style=\"color: #00af00; text-decoration-color: #00af00\">65</span> │ dropout_1[<span style=\"color: #00af00; text-decoration-color: #00af00\">0</span>]… │\n",
       "└─────────────────┴──────────────┴─────────┴───────────────┘\n",
       "</pre>\n"
      ],
      "text/plain": [
       "┏━━━━━━━━━━━━━━━━━┳━━━━━━━━━━━━━━┳━━━━━━━━━┳━━━━━━━━━━━━━━━┓\n",
       "┃\u001b[1m \u001b[0m\u001b[1mLayer (type)   \u001b[0m\u001b[1m \u001b[0m┃\u001b[1m \u001b[0m\u001b[1mOutput Shape\u001b[0m\u001b[1m \u001b[0m┃\u001b[1m \u001b[0m\u001b[1mParam #\u001b[0m\u001b[1m \u001b[0m┃\u001b[1m \u001b[0m\u001b[1mConnected to \u001b[0m\u001b[1m \u001b[0m┃\n",
       "┡━━━━━━━━━━━━━━━━━╇━━━━━━━━━━━━━━╇━━━━━━━━━╇━━━━━━━━━━━━━━━┩\n",
       "│ movie_user_inp… │ (\u001b[38;5;45mNone\u001b[0m, \u001b[38;5;34m1\u001b[0m)    │       \u001b[38;5;34m0\u001b[0m │ -             │\n",
       "│ (\u001b[38;5;33mInputLayer\u001b[0m)    │              │         │               │\n",
       "├─────────────────┼──────────────┼─────────┼───────────────┤\n",
       "│ movie_input     │ (\u001b[38;5;45mNone\u001b[0m, \u001b[38;5;34m1\u001b[0m)    │       \u001b[38;5;34m0\u001b[0m │ -             │\n",
       "│ (\u001b[38;5;33mInputLayer\u001b[0m)    │              │         │               │\n",
       "├─────────────────┼──────────────┼─────────┼───────────────┤\n",
       "│ movie_user_emb… │ (\u001b[38;5;45mNone\u001b[0m, \u001b[38;5;34m1\u001b[0m,    │  \u001b[38;5;34m30,500\u001b[0m │ movie_user_i… │\n",
       "│ (\u001b[38;5;33mEmbedding\u001b[0m)     │ \u001b[38;5;34m50\u001b[0m)          │         │               │\n",
       "├─────────────────┼──────────────┼─────────┼───────────────┤\n",
       "│ movie_embedding │ (\u001b[38;5;45mNone\u001b[0m, \u001b[38;5;34m1\u001b[0m,    │ \u001b[38;5;34m486,200\u001b[0m │ movie_input[\u001b[38;5;34m…\u001b[0m │\n",
       "│ (\u001b[38;5;33mEmbedding\u001b[0m)     │ \u001b[38;5;34m50\u001b[0m)          │         │               │\n",
       "├─────────────────┼──────────────┼─────────┼───────────────┤\n",
       "│ flatten         │ (\u001b[38;5;45mNone\u001b[0m, \u001b[38;5;34m50\u001b[0m)   │       \u001b[38;5;34m0\u001b[0m │ movie_user_e… │\n",
       "│ (\u001b[38;5;33mFlatten\u001b[0m)       │              │         │               │\n",
       "├─────────────────┼──────────────┼─────────┼───────────────┤\n",
       "│ flatten_1       │ (\u001b[38;5;45mNone\u001b[0m, \u001b[38;5;34m50\u001b[0m)   │       \u001b[38;5;34m0\u001b[0m │ movie_embedd… │\n",
       "│ (\u001b[38;5;33mFlatten\u001b[0m)       │              │         │               │\n",
       "├─────────────────┼──────────────┼─────────┼───────────────┤\n",
       "│ concatenate     │ (\u001b[38;5;45mNone\u001b[0m, \u001b[38;5;34m100\u001b[0m)  │       \u001b[38;5;34m0\u001b[0m │ flatten[\u001b[38;5;34m0\u001b[0m][\u001b[38;5;34m0\u001b[0m… │\n",
       "│ (\u001b[38;5;33mConcatenate\u001b[0m)   │              │         │ flatten_1[\u001b[38;5;34m0\u001b[0m]… │\n",
       "├─────────────────┼──────────────┼─────────┼───────────────┤\n",
       "│ dense (\u001b[38;5;33mDense\u001b[0m)   │ (\u001b[38;5;45mNone\u001b[0m, \u001b[38;5;34m128\u001b[0m)  │  \u001b[38;5;34m12,928\u001b[0m │ concatenate[\u001b[38;5;34m…\u001b[0m │\n",
       "├─────────────────┼──────────────┼─────────┼───────────────┤\n",
       "│ dropout         │ (\u001b[38;5;45mNone\u001b[0m, \u001b[38;5;34m128\u001b[0m)  │       \u001b[38;5;34m0\u001b[0m │ dense[\u001b[38;5;34m0\u001b[0m][\u001b[38;5;34m0\u001b[0m]   │\n",
       "│ (\u001b[38;5;33mDropout\u001b[0m)       │              │         │               │\n",
       "├─────────────────┼──────────────┼─────────┼───────────────┤\n",
       "│ dense_1 (\u001b[38;5;33mDense\u001b[0m) │ (\u001b[38;5;45mNone\u001b[0m, \u001b[38;5;34m64\u001b[0m)   │   \u001b[38;5;34m8,256\u001b[0m │ dropout[\u001b[38;5;34m0\u001b[0m][\u001b[38;5;34m0\u001b[0m] │\n",
       "├─────────────────┼──────────────┼─────────┼───────────────┤\n",
       "│ dropout_1       │ (\u001b[38;5;45mNone\u001b[0m, \u001b[38;5;34m64\u001b[0m)   │       \u001b[38;5;34m0\u001b[0m │ dense_1[\u001b[38;5;34m0\u001b[0m][\u001b[38;5;34m0\u001b[0m] │\n",
       "│ (\u001b[38;5;33mDropout\u001b[0m)       │              │         │               │\n",
       "├─────────────────┼──────────────┼─────────┼───────────────┤\n",
       "│ dense_2 (\u001b[38;5;33mDense\u001b[0m) │ (\u001b[38;5;45mNone\u001b[0m, \u001b[38;5;34m1\u001b[0m)    │      \u001b[38;5;34m65\u001b[0m │ dropout_1[\u001b[38;5;34m0\u001b[0m]… │\n",
       "└─────────────────┴──────────────┴─────────┴───────────────┘\n"
      ]
     },
     "metadata": {},
     "output_type": "display_data"
    },
    {
     "data": {
      "text/html": [
       "<pre style=\"white-space:pre;overflow-x:auto;line-height:normal;font-family:Menlo,'DejaVu Sans Mono',consolas,'Courier New',monospace\"><span style=\"font-weight: bold\"> Total params: </span><span style=\"color: #00af00; text-decoration-color: #00af00\">537,949</span> (2.05 MB)\n",
       "</pre>\n"
      ],
      "text/plain": [
       "\u001b[1m Total params: \u001b[0m\u001b[38;5;34m537,949\u001b[0m (2.05 MB)\n"
      ]
     },
     "metadata": {},
     "output_type": "display_data"
    },
    {
     "data": {
      "text/html": [
       "<pre style=\"white-space:pre;overflow-x:auto;line-height:normal;font-family:Menlo,'DejaVu Sans Mono',consolas,'Courier New',monospace\"><span style=\"font-weight: bold\"> Trainable params: </span><span style=\"color: #00af00; text-decoration-color: #00af00\">537,949</span> (2.05 MB)\n",
       "</pre>\n"
      ],
      "text/plain": [
       "\u001b[1m Trainable params: \u001b[0m\u001b[38;5;34m537,949\u001b[0m (2.05 MB)\n"
      ]
     },
     "metadata": {},
     "output_type": "display_data"
    },
    {
     "data": {
      "text/html": [
       "<pre style=\"white-space:pre;overflow-x:auto;line-height:normal;font-family:Menlo,'DejaVu Sans Mono',consolas,'Courier New',monospace\"><span style=\"font-weight: bold\"> Non-trainable params: </span><span style=\"color: #00af00; text-decoration-color: #00af00\">0</span> (0.00 B)\n",
       "</pre>\n"
      ],
      "text/plain": [
       "\u001b[1m Non-trainable params: \u001b[0m\u001b[38;5;34m0\u001b[0m (0.00 B)\n"
      ]
     },
     "metadata": {},
     "output_type": "display_data"
    }
   ],
   "source": [
    "model.compile(optimizer = 'adam',loss = 'mean_squared_error')\n",
    "model.summary()"
   ]
  },
  {
   "cell_type": "code",
   "execution_count": 18,
   "id": "6c248731-614b-4704-8704-1680602dbe30",
   "metadata": {},
   "outputs": [],
   "source": [
    "X = movie_ratings[['user', 'movie']]\n",
    "y = movie_ratings['rating']"
   ]
  },
  {
   "cell_type": "markdown",
   "id": "b2c8a5da-f1e6-45f9-bd07-82a9f56daaf2",
   "metadata": {},
   "source": [
    "train_test_split randomly splits the data into 80% training and 20% testing sets.\n",
    "X_train and X_test contain the user and movie IDs for training and testing.\n",
    "y_train and y_test contain the ratings for training and testing.\n",
    "Train the Model"
   ]
  },
  {
   "cell_type": "code",
   "execution_count": 19,
   "id": "32406722-d559-4e7d-bd63-bdf20e7310fd",
   "metadata": {},
   "outputs": [],
   "source": [
    "from sklearn.model_selection import train_test_split\n",
    "X_train, X_test, y_train, y_test = train_test_split(X, y, test_size=0.2, random_state=42)"
   ]
  },
  {
   "cell_type": "markdown",
   "id": "ccccf4e5-1b46-4231-9ead-0b4be4055432",
   "metadata": {},
   "source": [
    "model.fit trains the model for 10 epochs with a batch size of 64.\n",
    "validation_data specifies the data to evaluate the model after each epoch.\n"
   ]
  },
  {
   "cell_type": "code",
   "execution_count": 20,
   "id": "59bba89b-8d1a-4e4d-858a-c4c4e680470e",
   "metadata": {},
   "outputs": [
    {
     "name": "stdout",
     "output_type": "stream",
     "text": [
      "Epoch 1/10\n",
      "\u001b[1m1261/1261\u001b[0m \u001b[32m━━━━━━━━━━━━━━━━━━━━\u001b[0m\u001b[37m\u001b[0m \u001b[1m15s\u001b[0m 9ms/step - loss: 2.7802 - val_loss: 0.8178\n",
      "Epoch 2/10\n",
      "\u001b[1m1261/1261\u001b[0m \u001b[32m━━━━━━━━━━━━━━━━━━━━\u001b[0m\u001b[37m\u001b[0m \u001b[1m11s\u001b[0m 9ms/step - loss: 1.0982 - val_loss: 0.7979\n",
      "Epoch 3/10\n",
      "\u001b[1m1261/1261\u001b[0m \u001b[32m━━━━━━━━━━━━━━━━━━━━\u001b[0m\u001b[37m\u001b[0m \u001b[1m11s\u001b[0m 9ms/step - loss: 0.9311 - val_loss: 0.7716\n",
      "Epoch 4/10\n",
      "\u001b[1m1261/1261\u001b[0m \u001b[32m━━━━━━━━━━━━━━━━━━━━\u001b[0m\u001b[37m\u001b[0m \u001b[1m13s\u001b[0m 10ms/step - loss: 0.8246 - val_loss: 0.7709\n",
      "Epoch 5/10\n",
      "\u001b[1m1261/1261\u001b[0m \u001b[32m━━━━━━━━━━━━━━━━━━━━\u001b[0m\u001b[37m\u001b[0m \u001b[1m10s\u001b[0m 8ms/step - loss: 0.7466 - val_loss: 0.7638\n",
      "Epoch 6/10\n",
      "\u001b[1m1261/1261\u001b[0m \u001b[32m━━━━━━━━━━━━━━━━━━━━\u001b[0m\u001b[37m\u001b[0m \u001b[1m11s\u001b[0m 9ms/step - loss: 0.6870 - val_loss: 0.7649\n",
      "Epoch 7/10\n",
      "\u001b[1m1261/1261\u001b[0m \u001b[32m━━━━━━━━━━━━━━━━━━━━\u001b[0m\u001b[37m\u001b[0m \u001b[1m24s\u001b[0m 11ms/step - loss: 0.6399 - val_loss: 0.7660\n",
      "Epoch 8/10\n",
      "\u001b[1m1261/1261\u001b[0m \u001b[32m━━━━━━━━━━━━━━━━━━━━\u001b[0m\u001b[37m\u001b[0m \u001b[1m12s\u001b[0m 10ms/step - loss: 0.6041 - val_loss: 0.7699\n",
      "Epoch 9/10\n",
      "\u001b[1m1261/1261\u001b[0m \u001b[32m━━━━━━━━━━━━━━━━━━━━\u001b[0m\u001b[37m\u001b[0m \u001b[1m22s\u001b[0m 10ms/step - loss: 0.5702 - val_loss: 0.7767\n",
      "Epoch 10/10\n",
      "\u001b[1m1261/1261\u001b[0m \u001b[32m━━━━━━━━━━━━━━━━━━━━\u001b[0m\u001b[37m\u001b[0m \u001b[1m10s\u001b[0m 8ms/step - loss: 0.5462 - val_loss: 0.7850\n"
     ]
    }
   ],
   "source": [
    "history = model.fit([X_train['user'], X_train['movie']], y_train, \n",
    "                    epochs=10, \n",
    "                    batch_size=64, \n",
    "                    validation_data=([X_test['user'], X_test['movie']], y_test))"
   ]
  },
  {
   "cell_type": "code",
   "execution_count": 21,
   "id": "f56aaad4-84b7-420d-85da-e2569a119559",
   "metadata": {},
   "outputs": [
    {
     "data": {
      "image/png": "[encoded data removed]",
      "text/plain": [
       "<Figure size 640x480 with 1 Axes>"
      ]
     },
     "metadata": {},
     "output_type": "display_data"
    }
   ],
   "source": [
    "plt.plot(history.history['loss'])\n",
    "plt.plot(history.history['val_loss'])\n",
    "plt.title('Model loss')\n",
    "plt.ylabel('Loss')\n",
    "plt.xlabel('Epoch')\n",
    "plt.legend(['Train', 'Test'], loc='upper left')\n",
    "plt.show()\n"
   ]
  },
  {
   "cell_type": "code",
   "execution_count": 22,
   "id": "b197a4f8-8c2f-4c53-b722-69baf1c7ab24",
   "metadata": {},
   "outputs": [
    {
     "name": "stdout",
     "output_type": "stream",
     "text": [
      "\u001b[1m631/631\u001b[0m \u001b[32m━━━━━━━━━━━━━━━━━━━━\u001b[0m\u001b[37m\u001b[0m \u001b[1m2s\u001b[0m 2ms/step\n"
     ]
    }
   ],
   "source": [
    "y_pred = model.predict([X_test['user'], X_test['movie']])"
   ]
  },
  {
   "cell_type": "code",
   "execution_count": 23,
   "id": "10bd9f62-4ada-4bde-ab28-386f19c326f2",
   "metadata": {},
   "outputs": [
    {
     "name": "stdout",
     "output_type": "stream",
     "text": [
      "Test MSE: 0.7850021719932556\n",
      "Test RMSE: 0.8860034942626953\n",
      "Test MAE: 0.6751143932342529\n"
     ]
    }
   ],
   "source": [
    "# Calculate additional metrics\n",
    "from sklearn.metrics import mean_absolute_error, mean_squared_error\n",
    "mse = mean_squared_error(y_test, y_pred)\n",
    "rmse = np.sqrt(mse)\n",
    "mae = mean_absolute_error(y_test, y_pred)\n",
    "\n",
    "print(f\"Test MSE: {mse}\")\n",
    "print(f\"Test RMSE: {rmse}\")\n",
    "print(f\"Test MAE: {mae}\")"
   ]
  },
  {
   "cell_type": "code",
   "execution_count": 24,
   "id": "bbcbcb8e-6be9-4920-979b-f2cb5c1ea862",
   "metadata": {},
   "outputs": [
    {
     "name": "stdout",
     "output_type": "stream",
     "text": [
      "\u001b[1m631/631\u001b[0m \u001b[32m━━━━━━━━━━━━━━━━━━━━\u001b[0m\u001b[37m\u001b[0m \u001b[1m1s\u001b[0m 2ms/step - loss: 0.7943\n"
     ]
    }
   ],
   "source": [
    "evaluation_results = model.evaluate([X_test['user'], X_test['movie']], y_test)"
   ]
  },
  {
   "cell_type": "code",
   "execution_count": 25,
   "id": "1f25987f-920a-4389-a92c-a7fab9b0d636",
   "metadata": {},
   "outputs": [
    {
     "data": {
      "text/plain": [
       "0.7850019335746765"
      ]
     },
     "execution_count": 25,
     "metadata": {},
     "output_type": "execute_result"
    }
   ],
   "source": [
    "evaluation_results"
   ]
  },
  {
   "cell_type": "code",
   "execution_count": 27,
   "id": "1f0ccf8e-ab69-4ecf-adbe-1cef7f64a157",
   "metadata": {},
   "outputs": [
    {
     "name": "stderr",
     "output_type": "stream",
     "text": [
      "WARNING:absl:You are saving your model as an HDF5 file via `model.save()` or `keras.saving.save_model(model)`. This file format is considered legacy. We recommend using instead the native Keras format, e.g. `model.save('my_model.keras')` or `keras.saving.save_model(model, 'my_model.keras')`. \n"
     ]
    }
   ],
   "source": [
    "model.save('movie_recommendation_model.h5')\n"
   ]
  },
  {
   "cell_type": "code",
   "execution_count": null,
   "id": "2b39f5dc-cb7c-470c-999e-1ec4fa00b653",
   "metadata": {},
   "outputs": [],
   "source": []
  }
 ],
 "metadata": {
  "kernelspec": {
   "display_name": "Python 3 (ipykernel)",
   "language": "python",
   "name": "python3"
  },
  "language_info": {
   "codemirror_mode": {
    "name": "ipython",
    "version": 3
   },
   "file_extension": ".py",
   "mimetype": "text/x-python",
   "name": "python",
   "nbconvert_exporter": "python",
   "pygments_lexer": "ipython3",
   "version": "3.12.0"
  }
 },
 "nbformat": 4,
 "nbformat_minor": 5
}
